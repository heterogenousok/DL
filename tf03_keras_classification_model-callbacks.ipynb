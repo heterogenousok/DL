{
 "cells": [
  {
   "cell_type": "code",
   "execution_count": 1,
   "metadata": {},
   "outputs": [
    {
     "name": "stdout",
     "output_type": "stream",
     "text": [
      "2.2.0\n",
      "sys.version_info(major=3, minor=6, micro=9, releaselevel='final', serial=0)\n",
      "matplotlib 3.2.1\n",
      "numpy 1.18.5\n",
      "pandas 1.0.4\n",
      "sklearn 0.23.1\n",
      "tensorflow 2.2.0\n",
      "tensorflow.keras 2.3.0-tf\n"
     ]
    }
   ],
   "source": [
    "import matplotlib as mpl\n",
    "import matplotlib.pyplot as plt\n",
    "%matplotlib inline\n",
    "import numpy as np\n",
    "import sklearn\n",
    "import pandas as pd\n",
    "import os\n",
    "import sys\n",
    "import time\n",
    "import tensorflow as tf\n",
    "\n",
    "from tensorflow import keras\n",
    "\n",
    "print(tf.__version__)\n",
    "print(sys.version_info)\n",
    "for module in mpl, np, pd, sklearn, tf, keras:\n",
    "    print(module.__name__, module.__version__)\n"
   ]
  },
  {
   "cell_type": "code",
   "execution_count": 2,
   "metadata": {},
   "outputs": [
    {
     "name": "stdout",
     "output_type": "stream",
     "text": [
      "(5000, 28, 28) (5000,)\n",
      "(55000, 28, 28) (55000,)\n",
      "(10000, 28, 28) (10000,)\n"
     ]
    }
   ],
   "source": [
    "fashion_mnist = keras.datasets.fashion_mnist\n",
    "(x_train_all, y_train_all), (x_test, y_test) = fashion_mnist.load_data()\n",
    "x_valid, x_train = x_train_all[:5000], x_train_all[5000:]\n",
    "y_valid, y_train = y_train_all[:5000], y_train_all[5000:]\n",
    "\n",
    "print(x_valid.shape, y_valid.shape)\n",
    "print(x_train.shape, y_train.shape)\n",
    "print(x_test.shape, y_test.shape)"
   ]
  },
  {
   "cell_type": "code",
   "execution_count": 4,
   "metadata": {},
   "outputs": [],
   "source": [
    "# x = (x - u) / std\n",
    "\n",
    "from sklearn.preprocessing import StandardScaler\n",
    "\n",
    "scaler = StandardScaler()\n",
    "# x_train: [None, 28, 28] -> [None, 784]\n",
    "x_train_scaled = scaler.fit_transform(\n",
    "    x_train.astype(np.float32).reshape(-1, 1)).reshape(-1, 28, 28)\n",
    "x_valid_scaled = scaler.transform(\n",
    "    x_valid.astype(np.float32).reshape(-1, 1)).reshape(-1, 28, 28)\n",
    "x_test_scaled = scaler.transform(\n",
    "    x_test.astype(np.float32).reshape(-1, 1)).reshape(-1, 28, 28)\n"
   ]
  },
  {
   "cell_type": "code",
   "execution_count": 6,
   "metadata": {},
   "outputs": [],
   "source": [
    "# tf.keras.models.Sequential()\n",
    "\n",
    "\"\"\"\n",
    "model = keras.models.Sequential()\n",
    "model.add(keras.layers.Flatten(input_shape=[28, 28]))\n",
    "model.add(keras.layers.Dense(300, activation=\"relu\"))\n",
    "model.add(keras.layers.Dense(100, activation=\"relu\"))\n",
    "model.add(keras.layers.Dense(10, activation=\"softmax\"))\n",
    "\"\"\"\n",
    "\n",
    "model = keras.models.Sequential([\n",
    "    keras.layers.Flatten(input_shape=[28, 28]),\n",
    "    keras.layers.Dense(300, activation='relu'),\n",
    "    keras.layers.Dense(100, activation='relu'),\n",
    "    keras.layers.Dense(10, activation='softmax')\n",
    "])\n",
    "\n",
    "# relu: y = max(0, x)\n",
    "# softmax: 将向量变成概率分布. x = [x1, x2, x3], \n",
    "#          y = [e^x1/sum, e^x2/sum, e^x3/sum], sum = e^x1 + e^x2 + e^x3\n",
    "\n",
    "# reason for sparse: y->index. y->one_hot->[] \n",
    "model.compile(loss=\"sparse_categorical_crossentropy\",\n",
    "              optimizer = keras.optimizers.SGD(0.001),\n",
    "              metrics = [\"accuracy\"])"
   ]
  },
  {
   "cell_type": "code",
   "execution_count": 7,
   "metadata": {},
   "outputs": [
    {
     "name": "stdout",
     "output_type": "stream",
     "text": [
      "Epoch 1/100\n",
      "1719/1719 [==============================] - 10s 6ms/step - loss: 0.8974 - accuracy: 0.7100 - val_loss: 0.6105 - val_accuracy: 0.7904\n",
      "Epoch 2/100\n",
      "1719/1719 [==============================] - 10s 6ms/step - loss: 0.5789 - accuracy: 0.7986 - val_loss: 0.5192 - val_accuracy: 0.8232\n",
      "Epoch 3/100\n",
      "1719/1719 [==============================] - 10s 6ms/step - loss: 0.5150 - accuracy: 0.8188 - val_loss: 0.4838 - val_accuracy: 0.8312\n",
      "Epoch 4/100\n",
      "1719/1719 [==============================] - 10s 6ms/step - loss: 0.4803 - accuracy: 0.8297 - val_loss: 0.4532 - val_accuracy: 0.8472\n",
      "Epoch 5/100\n",
      "1719/1719 [==============================] - 10s 6ms/step - loss: 0.4572 - accuracy: 0.8389 - val_loss: 0.4355 - val_accuracy: 0.8512\n",
      "Epoch 6/100\n",
      "1719/1719 [==============================] - 10s 6ms/step - loss: 0.4395 - accuracy: 0.8441 - val_loss: 0.4220 - val_accuracy: 0.8546\n",
      "Epoch 7/100\n",
      "1719/1719 [==============================] - 11s 6ms/step - loss: 0.4254 - accuracy: 0.8500 - val_loss: 0.4123 - val_accuracy: 0.8594\n",
      "Epoch 8/100\n",
      "1719/1719 [==============================] - 10s 6ms/step - loss: 0.4140 - accuracy: 0.8535 - val_loss: 0.4077 - val_accuracy: 0.8596\n",
      "Epoch 9/100\n",
      "1719/1719 [==============================] - 10s 6ms/step - loss: 0.4040 - accuracy: 0.8570 - val_loss: 0.3975 - val_accuracy: 0.8582\n",
      "Epoch 10/100\n",
      "1719/1719 [==============================] - 10s 6ms/step - loss: 0.3953 - accuracy: 0.8609 - val_loss: 0.3901 - val_accuracy: 0.8654\n",
      "Epoch 11/100\n",
      "1719/1719 [==============================] - 10s 6ms/step - loss: 0.3873 - accuracy: 0.8636 - val_loss: 0.3862 - val_accuracy: 0.8646\n",
      "Epoch 12/100\n",
      "1719/1719 [==============================] - 9s 5ms/step - loss: 0.3804 - accuracy: 0.8652 - val_loss: 0.3798 - val_accuracy: 0.8652\n",
      "Epoch 13/100\n",
      "1719/1719 [==============================] - 9s 5ms/step - loss: 0.3741 - accuracy: 0.8679 - val_loss: 0.3748 - val_accuracy: 0.8694\n",
      "Epoch 14/100\n",
      "1719/1719 [==============================] - 9s 5ms/step - loss: 0.3681 - accuracy: 0.8701 - val_loss: 0.3719 - val_accuracy: 0.8688\n",
      "Epoch 15/100\n",
      "1719/1719 [==============================] - 11s 7ms/step - loss: 0.3626 - accuracy: 0.8715 - val_loss: 0.3687 - val_accuracy: 0.8688\n",
      "Epoch 16/100\n",
      "1719/1719 [==============================] - 16s 9ms/step - loss: 0.3577 - accuracy: 0.8737 - val_loss: 0.3635 - val_accuracy: 0.8692\n",
      "Epoch 17/100\n",
      "1719/1719 [==============================] - 9s 5ms/step - loss: 0.3528 - accuracy: 0.8751 - val_loss: 0.3598 - val_accuracy: 0.8714\n",
      "Epoch 18/100\n",
      "1719/1719 [==============================] - 7s 4ms/step - loss: 0.3484 - accuracy: 0.8768 - val_loss: 0.3582 - val_accuracy: 0.8712\n",
      "Epoch 19/100\n",
      "1719/1719 [==============================] - 7s 4ms/step - loss: 0.3446 - accuracy: 0.8780 - val_loss: 0.3560 - val_accuracy: 0.8718\n",
      "Epoch 20/100\n",
      "1719/1719 [==============================] - 7s 4ms/step - loss: 0.3405 - accuracy: 0.8790 - val_loss: 0.3508 - val_accuracy: 0.8756\n",
      "Epoch 21/100\n",
      "1719/1719 [==============================] - 8s 5ms/step - loss: 0.3367 - accuracy: 0.8812 - val_loss: 0.3516 - val_accuracy: 0.8774\n",
      "Epoch 22/100\n",
      "1719/1719 [==============================] - 7s 4ms/step - loss: 0.3334 - accuracy: 0.8809 - val_loss: 0.3517 - val_accuracy: 0.8758\n",
      "Epoch 23/100\n",
      "1719/1719 [==============================] - 8s 5ms/step - loss: 0.3298 - accuracy: 0.8825 - val_loss: 0.3492 - val_accuracy: 0.8750\n",
      "Epoch 24/100\n",
      "1719/1719 [==============================] - 10s 6ms/step - loss: 0.3263 - accuracy: 0.8839 - val_loss: 0.3427 - val_accuracy: 0.8778\n",
      "Epoch 25/100\n",
      "1719/1719 [==============================] - 10s 6ms/step - loss: 0.3235 - accuracy: 0.8849 - val_loss: 0.3421 - val_accuracy: 0.8768\n",
      "Epoch 26/100\n",
      "1719/1719 [==============================] - 8s 4ms/step - loss: 0.3202 - accuracy: 0.8854 - val_loss: 0.3415 - val_accuracy: 0.8790\n",
      "Epoch 27/100\n",
      "1719/1719 [==============================] - 7s 4ms/step - loss: 0.3176 - accuracy: 0.8867 - val_loss: 0.3389 - val_accuracy: 0.8792\n",
      "Epoch 28/100\n",
      "1719/1719 [==============================] - 7s 4ms/step - loss: 0.3146 - accuracy: 0.8875 - val_loss: 0.3361 - val_accuracy: 0.8802\n",
      "Epoch 29/100\n",
      "1719/1719 [==============================] - 7s 4ms/step - loss: 0.3118 - accuracy: 0.8887 - val_loss: 0.3341 - val_accuracy: 0.8792\n",
      "Epoch 30/100\n",
      "1719/1719 [==============================] - 8s 4ms/step - loss: 0.3087 - accuracy: 0.8897 - val_loss: 0.3363 - val_accuracy: 0.8800\n",
      "Epoch 31/100\n",
      "1719/1719 [==============================] - 8s 5ms/step - loss: 0.3061 - accuracy: 0.8911 - val_loss: 0.3329 - val_accuracy: 0.8802\n",
      "Epoch 32/100\n",
      "1719/1719 [==============================] - 7s 4ms/step - loss: 0.3040 - accuracy: 0.8903 - val_loss: 0.3328 - val_accuracy: 0.8796\n",
      "Epoch 33/100\n",
      "1719/1719 [==============================] - 7s 4ms/step - loss: 0.3013 - accuracy: 0.8925 - val_loss: 0.3313 - val_accuracy: 0.8818\n",
      "Epoch 34/100\n",
      "1719/1719 [==============================] - 8s 4ms/step - loss: 0.2990 - accuracy: 0.8934 - val_loss: 0.3318 - val_accuracy: 0.8792\n",
      "Epoch 35/100\n",
      "1719/1719 [==============================] - 9s 5ms/step - loss: 0.2965 - accuracy: 0.8942 - val_loss: 0.3330 - val_accuracy: 0.8822\n",
      "Epoch 36/100\n",
      "1719/1719 [==============================] - 8s 4ms/step - loss: 0.2945 - accuracy: 0.8952 - val_loss: 0.3263 - val_accuracy: 0.8848\n",
      "Epoch 37/100\n",
      "1719/1719 [==============================] - 7s 4ms/step - loss: 0.2919 - accuracy: 0.8957 - val_loss: 0.3286 - val_accuracy: 0.8818\n",
      "Epoch 38/100\n",
      "1719/1719 [==============================] - 6s 4ms/step - loss: 0.2898 - accuracy: 0.8968 - val_loss: 0.3262 - val_accuracy: 0.8838\n",
      "Epoch 39/100\n",
      "1719/1719 [==============================] - 7s 4ms/step - loss: 0.2878 - accuracy: 0.8968 - val_loss: 0.3246 - val_accuracy: 0.8836\n",
      "Epoch 40/100\n",
      "1719/1719 [==============================] - 7s 4ms/step - loss: 0.2857 - accuracy: 0.8977 - val_loss: 0.3231 - val_accuracy: 0.8826\n",
      "Epoch 41/100\n",
      "1719/1719 [==============================] - 7s 4ms/step - loss: 0.2833 - accuracy: 0.8984 - val_loss: 0.3233 - val_accuracy: 0.8820\n",
      "Epoch 42/100\n",
      "1719/1719 [==============================] - 8s 4ms/step - loss: 0.2814 - accuracy: 0.8996 - val_loss: 0.3198 - val_accuracy: 0.8862\n",
      "Epoch 43/100\n",
      "1719/1719 [==============================] - 8s 5ms/step - loss: 0.2794 - accuracy: 0.9005 - val_loss: 0.3196 - val_accuracy: 0.8856\n",
      "Epoch 44/100\n",
      "1719/1719 [==============================] - 11s 7ms/step - loss: 0.2777 - accuracy: 0.9004 - val_loss: 0.3174 - val_accuracy: 0.8858\n",
      "Epoch 45/100\n",
      "1719/1719 [==============================] - 8s 5ms/step - loss: 0.2757 - accuracy: 0.9010 - val_loss: 0.3169 - val_accuracy: 0.8876\n",
      "Epoch 46/100\n",
      "1719/1719 [==============================] - 7s 4ms/step - loss: 0.2736 - accuracy: 0.9017 - val_loss: 0.3200 - val_accuracy: 0.8832\n",
      "Epoch 47/100\n",
      "1719/1719 [==============================] - 7s 4ms/step - loss: 0.2720 - accuracy: 0.9030 - val_loss: 0.3134 - val_accuracy: 0.8872\n",
      "Epoch 48/100\n",
      "1719/1719 [==============================] - 8s 4ms/step - loss: 0.2697 - accuracy: 0.9035 - val_loss: 0.3142 - val_accuracy: 0.8884\n",
      "Epoch 49/100\n",
      "1719/1719 [==============================] - 8s 5ms/step - loss: 0.2680 - accuracy: 0.9043 - val_loss: 0.3156 - val_accuracy: 0.8856\n",
      "Epoch 50/100\n",
      "1719/1719 [==============================] - 8s 4ms/step - loss: 0.2663 - accuracy: 0.9052 - val_loss: 0.3172 - val_accuracy: 0.8876\n",
      "Epoch 51/100\n",
      "1719/1719 [==============================] - 7s 4ms/step - loss: 0.2647 - accuracy: 0.9061 - val_loss: 0.3164 - val_accuracy: 0.8864\n",
      "Epoch 52/100\n",
      "1719/1719 [==============================] - 8s 5ms/step - loss: 0.2629 - accuracy: 0.9063 - val_loss: 0.3161 - val_accuracy: 0.8874\n"
     ]
    }
   ],
   "source": [
    "# Tensorboard, earlystopping, ModelCheckpoint\n",
    "logdir = './callbacks'\n",
    "if not os.path.exists(logdir):\n",
    "    os.mkdir(logdir)\n",
    "output_model_file = os.path.join(logdir,\n",
    "                                 \"fashion_mnist_model.h5\")\n",
    "\n",
    "callbacks = [\n",
    "    keras.callbacks.TensorBoard(logdir),\n",
    "    keras.callbacks.ModelCheckpoint(output_model_file,\n",
    "                                    save_best_only = True),\n",
    "    keras.callbacks.EarlyStopping(patience=5, min_delta=1e-3),\n",
    "]\n",
    "#没有触发EarlyStopping的话，把epochs改大一些\n",
    "history = model.fit(x_train_scaled, y_train, epochs=100,\n",
    "                    validation_data=(x_valid_scaled, y_valid),\n",
    "                    callbacks = callbacks)"
   ]
  },
  {
   "cell_type": "code",
   "execution_count": 6,
   "metadata": {},
   "outputs": [
    {
     "data": {
      "image/png": "[encoded data removed]",
      "text/plain": [
       "<Figure size 576x360 with 1 Axes>"
      ]
     },
     "metadata": {
      "needs_background": "light"
     },
     "output_type": "display_data"
    }
   ],
   "source": [
    "def plot_learning_curves(history):\n",
    "    pd.DataFrame(history.history).plot(figsize=(8, 5))\n",
    "    plt.grid(True)\n",
    "    plt.gca().set_ylim(0, 1)\n",
    "    plt.show()\n",
    "\n",
    "plot_learning_curves(history)"
   ]
  },
  {
   "cell_type": "code",
   "execution_count": 9,
   "metadata": {},
   "outputs": [
    {
     "data": {
      "text/plain": [
       "[0.34504464268684387, 0.878600001335144]"
      ]
     },
     "execution_count": 9,
     "metadata": {},
     "output_type": "execute_result"
    }
   ],
   "source": [
    "model.evaluate(x_test_scaled, y_test, verbose=0)"
   ]
  },
  {
   "cell_type": "code",
   "execution_count": null,
   "metadata": {},
   "outputs": [],
   "source": []
  }
 ],
 "metadata": {
  "kernelspec": {
   "display_name": "Python 3",
   "language": "python",
   "name": "python3"
  },
  "language_info": {
   "codemirror_mode": {
    "name": "ipython",
    "version": 3
   },
   "file_extension": ".py",
   "mimetype": "text/x-python",
   "name": "python",
   "nbconvert_exporter": "python",
   "pygments_lexer": "ipython3",
   "version": "3.6.9"
  }
 },
 "nbformat": 4,
 "nbformat_minor": 2
}
