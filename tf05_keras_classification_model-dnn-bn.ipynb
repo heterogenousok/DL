{
 "cells": [
  {
   "cell_type": "code",
   "execution_count": 1,
   "metadata": {},
   "outputs": [
    {
     "name": "stdout",
     "output_type": "stream",
     "text": [
      "2.2.0\n",
      "sys.version_info(major=3, minor=6, micro=9, releaselevel='final', serial=0)\n",
      "matplotlib 3.2.1\n",
      "numpy 1.18.5\n",
      "pandas 1.0.4\n",
      "sklearn 0.23.1\n",
      "tensorflow 2.2.0\n",
      "tensorflow.keras 2.3.0-tf\n"
     ]
    }
   ],
   "source": [
    "import matplotlib as mpl\n",
    "import matplotlib.pyplot as plt\n",
    "%matplotlib inline\n",
    "import numpy as np\n",
    "import sklearn\n",
    "import pandas as pd\n",
    "import os\n",
    "import sys\n",
    "import time\n",
    "import tensorflow as tf\n",
    "\n",
    "from tensorflow import keras\n",
    "\n",
    "print(tf.__version__)\n",
    "print(sys.version_info)\n",
    "for module in mpl, np, pd, sklearn, tf, keras:\n",
    "    print(module.__name__, module.__version__)\n"
   ]
  },
  {
   "cell_type": "code",
   "execution_count": 2,
   "metadata": {},
   "outputs": [
    {
     "name": "stdout",
     "output_type": "stream",
     "text": [
      "(5000, 28, 28) (5000,)\n",
      "(55000, 28, 28) (55000,)\n",
      "(10000, 28, 28) (10000,)\n"
     ]
    }
   ],
   "source": [
    "fashion_mnist = keras.datasets.fashion_mnist\n",
    "(x_train_all, y_train_all), (x_test, y_test) = fashion_mnist.load_data()\n",
    "x_valid, x_train = x_train_all[:5000], x_train_all[5000:]\n",
    "y_valid, y_train = y_train_all[:5000], y_train_all[5000:]\n",
    "\n",
    "print(x_valid.shape, y_valid.shape)\n",
    "print(x_train.shape, y_train.shape)\n",
    "print(x_test.shape, y_test.shape)"
   ]
  },
  {
   "cell_type": "code",
   "execution_count": 3,
   "metadata": {},
   "outputs": [],
   "source": [
    "# x = (x - u) / std\n",
    "\n",
    "from sklearn.preprocessing import StandardScaler\n",
    "\n",
    "scaler = StandardScaler()\n",
    "# x_train: [None, 28, 28] -> [None, 784]\n",
    "#先reshape变为一维的目的是对每一个像素点进行标准化（让其等价）\n",
    "#同时StandardScaler只能对二维的进行标准化\n",
    "x_train_scaled = scaler.fit_transform(\n",
    "    x_train.astype(np.float32).reshape(-1, 1)).reshape(-1, 28, 28)\n",
    "x_valid_scaled = scaler.transform(\n",
    "    x_valid.astype(np.float32).reshape(-1, 1)).reshape(-1, 28, 28)\n",
    "x_test_scaled = scaler.transform(\n",
    "    x_test.astype(np.float32).reshape(-1, 1)).reshape(-1, 28, 28)\n"
   ]
  },
  {
   "cell_type": "code",
   "execution_count": 4,
   "metadata": {},
   "outputs": [],
   "source": [
    "# tf.keras.models.Sequential()\n",
    "\n",
    "model = keras.models.Sequential()\n",
    "model.add(keras.layers.Flatten(input_shape=[28, 28]))\n",
    "for _ in range(20):\n",
    "    model.add(keras.layers.Dense(100, activation=\"relu\"))\n",
    "    #只要在模型中加入下面代码即可\n",
    "    model.add(keras.layers.BatchNormalization())\n",
    "    \"\"\"\n",
    "    #也可以把激活函数放在批归一化的后面\n",
    "    model.add(keras.layers.Dense(100))\n",
    "    model.add(keras.layers.BatchNormalization())\n",
    "    model.add(keras.layers.Activation('relu'))\n",
    "    \"\"\"\n",
    "model.add(keras.layers.Dense(10, activation=\"softmax\"))\n",
    "\n",
    "model.compile(loss=\"sparse_categorical_crossentropy\",\n",
    "              optimizer = keras.optimizers.SGD(0.001),\n",
    "              metrics = [\"accuracy\"])"
   ]
  },
  {
   "cell_type": "code",
   "execution_count": 5,
   "metadata": {},
   "outputs": [
    {
     "name": "stdout",
     "output_type": "stream",
     "text": [
      "Model: \"sequential\"\n",
      "_________________________________________________________________\n",
      "Layer (type)                 Output Shape              Param #   \n",
      "=================================================================\n",
      "flatten (Flatten)            (None, 784)               0         \n",
      "_________________________________________________________________\n",
      "dense (Dense)                (None, 100)               78500     \n",
      "_________________________________________________________________\n",
      "batch_normalization (BatchNo (None, 100)               400       \n",
      "_________________________________________________________________\n",
      "dense_1 (Dense)              (None, 100)               10100     \n",
      "_________________________________________________________________\n",
      "batch_normalization_1 (Batch (None, 100)               400       \n",
      "_________________________________________________________________\n",
      "dense_2 (Dense)              (None, 100)               10100     \n",
      "_________________________________________________________________\n",
      "batch_normalization_2 (Batch (None, 100)               400       \n",
      "_________________________________________________________________\n",
      "dense_3 (Dense)              (None, 100)               10100     \n",
      "_________________________________________________________________\n",
      "batch_normalization_3 (Batch (None, 100)               400       \n",
      "_________________________________________________________________\n",
      "dense_4 (Dense)              (None, 100)               10100     \n",
      "_________________________________________________________________\n",
      "batch_normalization_4 (Batch (None, 100)               400       \n",
      "_________________________________________________________________\n",
      "dense_5 (Dense)              (None, 100)               10100     \n",
      "_________________________________________________________________\n",
      "batch_normalization_5 (Batch (None, 100)               400       \n",
      "_________________________________________________________________\n",
      "dense_6 (Dense)              (None, 100)               10100     \n",
      "_________________________________________________________________\n",
      "batch_normalization_6 (Batch (None, 100)               400       \n",
      "_________________________________________________________________\n",
      "dense_7 (Dense)              (None, 100)               10100     \n",
      "_________________________________________________________________\n",
      "batch_normalization_7 (Batch (None, 100)               400       \n",
      "_________________________________________________________________\n",
      "dense_8 (Dense)              (None, 100)               10100     \n",
      "_________________________________________________________________\n",
      "batch_normalization_8 (Batch (None, 100)               400       \n",
      "_________________________________________________________________\n",
      "dense_9 (Dense)              (None, 100)               10100     \n",
      "_________________________________________________________________\n",
      "batch_normalization_9 (Batch (None, 100)               400       \n",
      "_________________________________________________________________\n",
      "dense_10 (Dense)             (None, 100)               10100     \n",
      "_________________________________________________________________\n",
      "batch_normalization_10 (Batc (None, 100)               400       \n",
      "_________________________________________________________________\n",
      "dense_11 (Dense)             (None, 100)               10100     \n",
      "_________________________________________________________________\n",
      "batch_normalization_11 (Batc (None, 100)               400       \n",
      "_________________________________________________________________\n",
      "dense_12 (Dense)             (None, 100)               10100     \n",
      "_________________________________________________________________\n",
      "batch_normalization_12 (Batc (None, 100)               400       \n",
      "_________________________________________________________________\n",
      "dense_13 (Dense)             (None, 100)               10100     \n",
      "_________________________________________________________________\n",
      "batch_normalization_13 (Batc (None, 100)               400       \n",
      "_________________________________________________________________\n",
      "dense_14 (Dense)             (None, 100)               10100     \n",
      "_________________________________________________________________\n",
      "batch_normalization_14 (Batc (None, 100)               400       \n",
      "_________________________________________________________________\n",
      "dense_15 (Dense)             (None, 100)               10100     \n",
      "_________________________________________________________________\n",
      "batch_normalization_15 (Batc (None, 100)               400       \n",
      "_________________________________________________________________\n",
      "dense_16 (Dense)             (None, 100)               10100     \n",
      "_________________________________________________________________\n",
      "batch_normalization_16 (Batc (None, 100)               400       \n",
      "_________________________________________________________________\n",
      "dense_17 (Dense)             (None, 100)               10100     \n",
      "_________________________________________________________________\n",
      "batch_normalization_17 (Batc (None, 100)               400       \n",
      "_________________________________________________________________\n",
      "dense_18 (Dense)             (None, 100)               10100     \n",
      "_________________________________________________________________\n",
      "batch_normalization_18 (Batc (None, 100)               400       \n",
      "_________________________________________________________________\n",
      "dense_19 (Dense)             (None, 100)               10100     \n",
      "_________________________________________________________________\n",
      "batch_normalization_19 (Batc (None, 100)               400       \n",
      "_________________________________________________________________\n",
      "dense_20 (Dense)             (None, 10)                1010      \n",
      "=================================================================\n",
      "Total params: 279,410\n",
      "Trainable params: 275,410\n",
      "Non-trainable params: 4,000\n",
      "_________________________________________________________________\n"
     ]
    }
   ],
   "source": [
    "model.summary()"
   ]
  },
  {
   "cell_type": "code",
   "execution_count": 6,
   "metadata": {},
   "outputs": [
    {
     "name": "stdout",
     "output_type": "stream",
     "text": [
      "Epoch 1/100\n",
      "1719/1719 [==============================] - 13s 8ms/step - loss: 1.8923 - accuracy: 0.3669 - val_loss: 1.0294 - val_accuracy: 0.6370\n",
      "Epoch 2/100\n",
      "1719/1719 [==============================] - 15s 9ms/step - loss: 1.1108 - accuracy: 0.6076 - val_loss: 0.7873 - val_accuracy: 0.7116\n",
      "Epoch 3/100\n",
      "1719/1719 [==============================] - 13s 8ms/step - loss: 0.9729 - accuracy: 0.6520 - val_loss: 0.7209 - val_accuracy: 0.7366\n",
      "Epoch 4/100\n",
      "1719/1719 [==============================] - 12s 7ms/step - loss: 0.9029 - accuracy: 0.6786 - val_loss: 0.6728 - val_accuracy: 0.7504\n",
      "Epoch 5/100\n",
      "1719/1719 [==============================] - 12s 7ms/step - loss: 0.8474 - accuracy: 0.6971 - val_loss: 0.6218 - val_accuracy: 0.7708\n",
      "Epoch 6/100\n",
      "1719/1719 [==============================] - 11s 7ms/step - loss: 0.8143 - accuracy: 0.7118 - val_loss: 0.5931 - val_accuracy: 0.7862\n",
      "Epoch 7/100\n",
      "1719/1719 [==============================] - 11s 7ms/step - loss: 0.7729 - accuracy: 0.7267 - val_loss: 0.5748 - val_accuracy: 0.7918\n",
      "Epoch 8/100\n",
      "1719/1719 [==============================] - 11s 7ms/step - loss: 0.7378 - accuracy: 0.7401 - val_loss: 0.5538 - val_accuracy: 0.8026\n",
      "Epoch 9/100\n",
      "1719/1719 [==============================] - 11s 7ms/step - loss: 0.7209 - accuracy: 0.7460 - val_loss: 0.5420 - val_accuracy: 0.8124\n",
      "Epoch 10/100\n",
      "1719/1719 [==============================] - 11s 7ms/step - loss: 0.6981 - accuracy: 0.7550 - val_loss: 0.5266 - val_accuracy: 0.8174\n",
      "Epoch 11/100\n",
      "1719/1719 [==============================] - 11s 7ms/step - loss: 0.6745 - accuracy: 0.7644 - val_loss: 0.5138 - val_accuracy: 0.8198\n",
      "Epoch 12/100\n",
      "1719/1719 [==============================] - 11s 7ms/step - loss: 0.6578 - accuracy: 0.7709 - val_loss: 0.5006 - val_accuracy: 0.8250\n",
      "Epoch 13/100\n",
      "1719/1719 [==============================] - 11s 7ms/step - loss: 0.6382 - accuracy: 0.7772 - val_loss: 0.4840 - val_accuracy: 0.8286\n",
      "Epoch 14/100\n",
      "1719/1719 [==============================] - 12s 7ms/step - loss: 0.6326 - accuracy: 0.7819 - val_loss: 0.4784 - val_accuracy: 0.8344\n",
      "Epoch 15/100\n",
      "1719/1719 [==============================] - 11s 7ms/step - loss: 0.6106 - accuracy: 0.7874 - val_loss: 0.4622 - val_accuracy: 0.8404\n",
      "Epoch 16/100\n",
      "1719/1719 [==============================] - 11s 7ms/step - loss: 0.5973 - accuracy: 0.7939 - val_loss: 0.4581 - val_accuracy: 0.8374\n",
      "Epoch 17/100\n",
      "1719/1719 [==============================] - 11s 7ms/step - loss: 0.5876 - accuracy: 0.7958 - val_loss: 0.4432 - val_accuracy: 0.8468\n",
      "Epoch 18/100\n",
      "1719/1719 [==============================] - 11s 7ms/step - loss: 0.5842 - accuracy: 0.7979 - val_loss: 0.4429 - val_accuracy: 0.8488\n",
      "Epoch 19/100\n",
      "1719/1719 [==============================] - 12s 7ms/step - loss: 0.5677 - accuracy: 0.8029 - val_loss: 0.4342 - val_accuracy: 0.8480\n",
      "Epoch 20/100\n",
      "1719/1719 [==============================] - 11s 7ms/step - loss: 0.5650 - accuracy: 0.8033 - val_loss: 0.4378 - val_accuracy: 0.8460\n",
      "Epoch 21/100\n",
      "1719/1719 [==============================] - 11s 7ms/step - loss: 0.5496 - accuracy: 0.8076 - val_loss: 0.4297 - val_accuracy: 0.8486\n",
      "Epoch 22/100\n",
      "1719/1719 [==============================] - 11s 7ms/step - loss: 0.5417 - accuracy: 0.8115 - val_loss: 0.4238 - val_accuracy: 0.8498\n",
      "Epoch 23/100\n",
      "1719/1719 [==============================] - 12s 7ms/step - loss: 0.5278 - accuracy: 0.8167 - val_loss: 0.4142 - val_accuracy: 0.8550\n",
      "Epoch 24/100\n",
      "1719/1719 [==============================] - 12s 7ms/step - loss: 0.5289 - accuracy: 0.8165 - val_loss: 0.4155 - val_accuracy: 0.8548\n",
      "Epoch 25/100\n",
      "1719/1719 [==============================] - 12s 7ms/step - loss: 0.5206 - accuracy: 0.8183 - val_loss: 0.4113 - val_accuracy: 0.8560\n",
      "Epoch 26/100\n",
      "1719/1719 [==============================] - 12s 7ms/step - loss: 0.5129 - accuracy: 0.8211 - val_loss: 0.4073 - val_accuracy: 0.8556\n",
      "Epoch 27/100\n",
      "1719/1719 [==============================] - 12s 7ms/step - loss: 0.5066 - accuracy: 0.8237 - val_loss: 0.4025 - val_accuracy: 0.8582\n",
      "Epoch 28/100\n",
      "1719/1719 [==============================] - 11s 7ms/step - loss: 0.4993 - accuracy: 0.8269 - val_loss: 0.3977 - val_accuracy: 0.8584\n",
      "Epoch 29/100\n",
      "1719/1719 [==============================] - 11s 7ms/step - loss: 0.4913 - accuracy: 0.8286 - val_loss: 0.4039 - val_accuracy: 0.8568\n",
      "Epoch 30/100\n",
      "1719/1719 [==============================] - 12s 7ms/step - loss: 0.4931 - accuracy: 0.8287 - val_loss: 0.3972 - val_accuracy: 0.8564\n",
      "Epoch 31/100\n",
      "1719/1719 [==============================] - 12s 7ms/step - loss: 0.4836 - accuracy: 0.8313 - val_loss: 0.3958 - val_accuracy: 0.8584\n",
      "Epoch 32/100\n",
      "1719/1719 [==============================] - 13s 7ms/step - loss: 0.4776 - accuracy: 0.8331 - val_loss: 0.3923 - val_accuracy: 0.8602\n",
      "Epoch 33/100\n",
      "1719/1719 [==============================] - 11s 7ms/step - loss: 0.4756 - accuracy: 0.8358 - val_loss: 0.3925 - val_accuracy: 0.8618\n",
      "Epoch 34/100\n",
      "1719/1719 [==============================] - 11s 7ms/step - loss: 0.4701 - accuracy: 0.8373 - val_loss: 0.3854 - val_accuracy: 0.8610\n",
      "Epoch 35/100\n",
      "1719/1719 [==============================] - 11s 7ms/step - loss: 0.4651 - accuracy: 0.8387 - val_loss: 0.3780 - val_accuracy: 0.8652\n",
      "Epoch 36/100\n",
      "1719/1719 [==============================] - 11s 6ms/step - loss: 0.4610 - accuracy: 0.8396 - val_loss: 0.3750 - val_accuracy: 0.8630\n",
      "Epoch 37/100\n",
      "1719/1719 [==============================] - 11s 6ms/step - loss: 0.4538 - accuracy: 0.8426 - val_loss: 0.3737 - val_accuracy: 0.8672\n",
      "Epoch 38/100\n",
      "1719/1719 [==============================] - 11s 7ms/step - loss: 0.4466 - accuracy: 0.8439 - val_loss: 0.3703 - val_accuracy: 0.8682\n",
      "Epoch 39/100\n",
      "1719/1719 [==============================] - 11s 7ms/step - loss: 0.4469 - accuracy: 0.8449 - val_loss: 0.3668 - val_accuracy: 0.8682\n",
      "Epoch 40/100\n",
      "1719/1719 [==============================] - 11s 6ms/step - loss: 0.4382 - accuracy: 0.8489 - val_loss: 0.3686 - val_accuracy: 0.8662\n",
      "Epoch 41/100\n",
      "1719/1719 [==============================] - 11s 7ms/step - loss: 0.4388 - accuracy: 0.8483 - val_loss: 0.3736 - val_accuracy: 0.8656\n",
      "Epoch 42/100\n",
      "1719/1719 [==============================] - 11s 7ms/step - loss: 0.4376 - accuracy: 0.8473 - val_loss: 0.3650 - val_accuracy: 0.8716\n",
      "Epoch 43/100\n",
      "1719/1719 [==============================] - 12s 7ms/step - loss: 0.4366 - accuracy: 0.8464 - val_loss: 0.3652 - val_accuracy: 0.8686\n",
      "Epoch 44/100\n",
      "1719/1719 [==============================] - 11s 7ms/step - loss: 0.4303 - accuracy: 0.8506 - val_loss: 0.3594 - val_accuracy: 0.8708\n",
      "Epoch 45/100\n",
      "1719/1719 [==============================] - 11s 7ms/step - loss: 0.4253 - accuracy: 0.8498 - val_loss: 0.3602 - val_accuracy: 0.8720\n",
      "Epoch 46/100\n",
      "1719/1719 [==============================] - 11s 7ms/step - loss: 0.4196 - accuracy: 0.8537 - val_loss: 0.3601 - val_accuracy: 0.8694\n",
      "Epoch 47/100\n",
      "1719/1719 [==============================] - 12s 7ms/step - loss: 0.4209 - accuracy: 0.8541 - val_loss: 0.3516 - val_accuracy: 0.8702\n",
      "Epoch 48/100\n",
      "1719/1719 [==============================] - 12s 7ms/step - loss: 0.4178 - accuracy: 0.8543 - val_loss: 0.3517 - val_accuracy: 0.8742\n",
      "Epoch 49/100\n",
      "1719/1719 [==============================] - 12s 7ms/step - loss: 0.4113 - accuracy: 0.8559 - val_loss: 0.3527 - val_accuracy: 0.8736\n",
      "Epoch 50/100\n",
      "1719/1719 [==============================] - 12s 7ms/step - loss: 0.4113 - accuracy: 0.8562 - val_loss: 0.3510 - val_accuracy: 0.8732\n",
      "Epoch 51/100\n",
      "1719/1719 [==============================] - 13s 8ms/step - loss: 0.4055 - accuracy: 0.8578 - val_loss: 0.3556 - val_accuracy: 0.8730\n",
      "Epoch 52/100\n",
      "1719/1719 [==============================] - 12s 7ms/step - loss: 0.4065 - accuracy: 0.8583 - val_loss: 0.3472 - val_accuracy: 0.8764\n",
      "Epoch 53/100\n",
      "1719/1719 [==============================] - 12s 7ms/step - loss: 0.4038 - accuracy: 0.8583 - val_loss: 0.3501 - val_accuracy: 0.8754\n",
      "Epoch 54/100\n",
      "1719/1719 [==============================] - 12s 7ms/step - loss: 0.3972 - accuracy: 0.8602 - val_loss: 0.3501 - val_accuracy: 0.8746\n",
      "Epoch 55/100\n",
      "1719/1719 [==============================] - 13s 7ms/step - loss: 0.4020 - accuracy: 0.8604 - val_loss: 0.3518 - val_accuracy: 0.8740\n",
      "Epoch 56/100\n",
      "1719/1719 [==============================] - 13s 7ms/step - loss: 0.3927 - accuracy: 0.8636 - val_loss: 0.3484 - val_accuracy: 0.8750\n"
     ]
    },
    {
     "name": "stdout",
     "output_type": "stream",
     "text": [
      "Epoch 57/100\n",
      "1719/1719 [==============================] - 13s 8ms/step - loss: 0.3935 - accuracy: 0.8622 - val_loss: 0.3410 - val_accuracy: 0.8762\n",
      "Epoch 58/100\n",
      "1719/1719 [==============================] - 13s 7ms/step - loss: 0.3878 - accuracy: 0.8656 - val_loss: 0.3442 - val_accuracy: 0.8764\n",
      "Epoch 59/100\n",
      "1719/1719 [==============================] - 13s 7ms/step - loss: 0.3863 - accuracy: 0.8653 - val_loss: 0.3462 - val_accuracy: 0.8762\n",
      "Epoch 60/100\n",
      "1719/1719 [==============================] - 13s 7ms/step - loss: 0.3883 - accuracy: 0.8654 - val_loss: 0.3432 - val_accuracy: 0.8766\n",
      "Epoch 61/100\n",
      "1719/1719 [==============================] - 12s 7ms/step - loss: 0.3858 - accuracy: 0.8644 - val_loss: 0.3431 - val_accuracy: 0.8758\n",
      "Epoch 62/100\n",
      "1719/1719 [==============================] - 13s 7ms/step - loss: 0.3793 - accuracy: 0.8674 - val_loss: 0.3415 - val_accuracy: 0.8776\n"
     ]
    }
   ],
   "source": [
    "# Tensorboard, earlystopping, ModelCheckpoint\n",
    "logdir = './dnn-bn-callbacks'\n",
    "if not os.path.exists(logdir):\n",
    "    os.mkdir(logdir)\n",
    "output_model_file = os.path.join(logdir,\n",
    "                                 \"fashion_mnist_model.h5\")\n",
    "\n",
    "callbacks = [\n",
    "    keras.callbacks.TensorBoard(logdir),\n",
    "    keras.callbacks.ModelCheckpoint(output_model_file,\n",
    "                                    save_best_only = True),\n",
    "    keras.callbacks.EarlyStopping(patience=5, min_delta=1e-3),\n",
    "]\n",
    "history = model.fit(x_train_scaled, y_train, epochs=100,\n",
    "                    validation_data=(x_valid_scaled, y_valid),\n",
    "                    callbacks = callbacks)"
   ]
  },
  {
   "cell_type": "code",
   "execution_count": 7,
   "metadata": {},
   "outputs": [
    {
     "data": {
      "image/png": "[encoded data removed]",
      "text/plain": [
       "<Figure size 576x360 with 1 Axes>"
      ]
     },
     "metadata": {
      "needs_background": "light"
     },
     "output_type": "display_data"
    }
   ],
   "source": [
    "def plot_learning_curves(history):\n",
    "    pd.DataFrame(history.history).plot(figsize=(8, 5))\n",
    "    plt.grid(True)\n",
    "    plt.gca().set_ylim(0, 1)\n",
    "    plt.show()\n",
    "\n",
    "plot_learning_curves(history)\n",
    "\n",
    "# 1. 参数众多，训练不充分\n",
    "# 2. 梯度消失 -> 链式法则 -> 复合函数f(g(x))\n",
    "#    批归一化缓解梯度消失"
   ]
  },
  {
   "cell_type": "code",
   "execution_count": 8,
   "metadata": {},
   "outputs": [
    {
     "data": {
      "text/plain": [
       "[0.3760172724723816, 0.8668000102043152]"
      ]
     },
     "execution_count": 8,
     "metadata": {},
     "output_type": "execute_result"
    }
   ],
   "source": [
    "model.evaluate(x_test_scaled, y_test, verbose=0)"
   ]
  },
  {
   "cell_type": "code",
   "execution_count": null,
   "metadata": {},
   "outputs": [],
   "source": []
  }
 ],
 "metadata": {
  "kernelspec": {
   "display_name": "Python 3",
   "language": "python",
   "name": "python3"
  },
  "language_info": {
   "codemirror_mode": {
    "name": "ipython",
    "version": 3
   },
   "file_extension": ".py",
   "mimetype": "text/x-python",
   "name": "python",
   "nbconvert_exporter": "python",
   "pygments_lexer": "ipython3",
   "version": "3.6.9"
  }
 },
 "nbformat": 4,
 "nbformat_minor": 2
}
